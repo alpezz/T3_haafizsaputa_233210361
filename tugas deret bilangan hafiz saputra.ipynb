{
 "cells": [
  {
   "cell_type": "markdown",
   "metadata": {},
   "source": [
    "# Membuat Deret Bilangan"
   ]
  },
  {
   "cell_type": "markdown",
   "metadata": {},
   "source": [
    "Nama  : hafiz saputra\n",
    "Npm   : 233210361\n",
    "Kelas : 2C (Perminyakan)"
   ]
  },
  {
   "cell_type": "code",
   "execution_count": 8,
   "metadata": {},
   "outputs": [
    {
     "name": "stdout",
     "output_type": "stream",
     "text": [
      "2\n",
      "4\n",
      "6\n",
      "8\n",
      "10\n",
      "12\n"
     ]
    }
   ],
   "source": [
    "# Deret bilangan dengan awal 2, beda 2, dan jumlah suku 6\n",
    "awal = 2\n",
    "beda = 2\n",
    "jumlah_suku = 6\n",
    "\n",
    "for i in range(jumlah_suku):\n",
    "  suku = awal + i * beda\n",
    "  print(suku)"
   ]
  },
  {
   "cell_type": "code",
   "execution_count": 9,
   "metadata": {},
   "outputs": [
    {
     "name": "stdout",
     "output_type": "stream",
     "text": [
      "10\n",
      "9\n",
      "8\n",
      "7\n",
      "6\n",
      "5\n"
     ]
    }
   ],
   "source": [
    "# Deret bilangan dengan awal 10, beda 1, dan jumlah suku 6\n",
    "awal = 10\n",
    "beda = 1\n",
    "jumlah_suku = 6\n",
    "\n",
    "for i in range(jumlah_suku):\n",
    "  suku = awal - i * beda\n",
    "  print(suku)"
   ]
  },
  {
   "cell_type": "code",
   "execution_count": 63,
   "metadata": {},
   "outputs": [
    {
     "name": "stdout",
     "output_type": "stream",
     "text": [
      "50\n",
      "60\n",
      "70\n",
      "80\n",
      "90\n",
      "100\n"
     ]
    }
   ],
   "source": [
    "# Deret bilangan dengan awal 50, beda 10, dan jumlah suku 6\n",
    "awal = 50\n",
    "beda = 10\n",
    "jumlah_suku = 6\n",
    "\n",
    "for i in range(jumlah_suku):\n",
    "  suku = awal + i * beda\n",
    "  print(suku)"
   ]
  },
  {
   "cell_type": "code",
   "execution_count": 8,
   "metadata": {},
   "outputs": [
    {
     "name": "stdout",
     "output_type": "stream",
     "text": [
      "1\n",
      "4\n",
      "9\n",
      "16\n",
      "25\n",
      "36\n"
     ]
    }
   ],
   "source": [
    "# Deret bilangan dengan awal 1, bilangan prima (1,7), dan jumlah suku 6\n",
    "awal = 1\n",
    "bilangan_prima= (1,7)\n",
    "jumlah_suku = 6\n",
    "\n",
    "\n",
    "for i in range(1,7):\n",
    "  suku = awal * i * i\n",
    "  print(suku)"
   ]
  }
 ],
 "metadata": {
  "kernelspec": {
   "display_name": "Python 3",
   "language": "python",
   "name": "python3"
  },
  "language_info": {
   "codemirror_mode": {
    "name": "ipython",
    "version": 3
   },
   "file_extension": ".py",
   "mimetype": "text/x-python",
   "name": "python",
   "nbconvert_exporter": "python",
   "pygments_lexer": "ipython3",
   "version": "3.12.2"
  }
 },
 "nbformat": 4,
 "nbformat_minor": 2
}
